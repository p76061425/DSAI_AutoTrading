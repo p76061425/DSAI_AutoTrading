{
 "cells": [
  {
   "cell_type": "markdown",
   "metadata": {},
   "source": [
    "# AutoTrading"
   ]
  },
  {
   "cell_type": "markdown",
   "metadata": {},
   "source": [
    "## Import package"
   ]
  },
  {
   "cell_type": "code",
   "execution_count": null,
   "metadata": {},
   "outputs": [],
   "source": [
    "import pandas as pd"
   ]
  },
  {
   "cell_type": "markdown",
   "metadata": {},
   "source": [
    "## load_data functions \n",
    "Load .csv files by pandas"
   ]
  },
  {
   "cell_type": "code",
   "execution_count": 19,
   "metadata": {},
   "outputs": [],
   "source": [
    "def load_data(str):\n",
    "    df = pd.read_csv(str, names=[\"open\", \"high\", \"low\", \"close\"])\n",
    "    return df"
   ]
  },
  {
   "cell_type": "markdown",
   "metadata": {},
   "source": [
    "## AutoTrader implement\n",
    "利用五日均線及二十日均線來推測將來股市的走向，<br>\n",
    "若前五日收盤平均值大於前二十日收盤平均值，則推斷近日股市看漲，並買進股票，<br>\n",
    "若前五日收盤平均值小於前二十日收盤平均值，則推斷近日股市看跌，並賣出股票。"
   ]
  },
  {
   "cell_type": "code",
   "execution_count": 65,
   "metadata": {},
   "outputs": [],
   "source": [
    "class Cross:\n",
    "    def __init__(self):\n",
    "\n",
    "        self.day = 0\n",
    "        self.stock_num = 0\n",
    "        self.stock_num_test = 0\n",
    "        self.action = 0\n",
    "        self.five_avg_list=[]\n",
    "        self.twenty_avg_list=[]\n",
    "        self.my_money = 0\n",
    "        self.five_avg = 0\n",
    "        self.twenty_avg = 0\n",
    "        \n",
    "    def predict(self,row,testing_data_num):\n",
    "        \n",
    "        self.day += 1\n",
    "        \n",
    "        if(self.action==1):\n",
    "            self.stock_num+=1\n",
    "            self.my_money = self.my_money - row[0]\n",
    "        elif(self.action==-1):\n",
    "            self.stock_num -=1\n",
    "            self.my_money = self.my_money + row[0]\n",
    "\n",
    "        if(self.day<=20):\n",
    "            self.stock_num = 0\n",
    "            \n",
    "            self.five_avg = sum(self.five_avg_list)/5\n",
    "            self.twenty_avg = sum(self.twenty_avg_list)/20\n",
    "\n",
    "            if(self.day<=5):\n",
    "                self.five_avg_list.append(row[3])\n",
    "            else:\n",
    "                del self.five_avg_list[0]\n",
    "                self.five_avg_list.append(row[3])\n",
    "\n",
    "            self.twenty_avg_list.append(row[3])\n",
    "            \n",
    "            self.action = 0\n",
    "            output_file.write(str(self.action)+'\\n')\n",
    "\n",
    "        else:\n",
    "\n",
    "            del self.five_avg_list[0]\n",
    "            self.five_avg_list.append(row[3])\n",
    "            del self.twenty_avg_list[0]\n",
    "            self.twenty_avg_list.append(row[3])\n",
    "\n",
    "            self.five_avg = sum(self.five_avg_list)/5\n",
    "            self.twenty_avg = sum(self.twenty_avg_list)/20\n",
    "\n",
    "            if(self.five_avg > self.twenty_avg):\n",
    "                self.stock_num_test+=1\n",
    "                self.action = 1\n",
    "            else:\n",
    "                self.stock_num_test-=1\n",
    "                self.action = -1\n",
    "\n",
    "            if(self.stock_num_test>1):\n",
    "                self.stock_num_test = 1\n",
    "                self.action = 0\n",
    "\n",
    "            elif(self.stock_num_test<-1):\n",
    "                self.stock_num_test = -1\n",
    "                self.action = 0\n",
    "            if(self.day != testing_data_num):\n",
    "                output_file.write(str(self.action)+'\\n')\n",
    "                \n",
    "#          Show result\n",
    "#         print(self.day, \"act:\",self.action,\"stock:\", self.stock_num, \"money:\",self.my_money,\"五日:\",self.five_avg,\"二十日:\",self.twenty_avg,\"開盤價:\",row[0])    \n",
    "        "
   ]
  },
  {
   "cell_type": "markdown",
   "metadata": {},
   "source": [
    "## Main module"
   ]
  },
  {
   "cell_type": "code",
   "execution_count": 66,
   "metadata": {},
   "outputs": [],
   "source": [
    "if __name__ == '__main__':\n",
    "    # You should not modify this part.\n",
    "    import argparse\n",
    "\n",
    "    parser = argparse.ArgumentParser()\n",
    "    parser.add_argument('--training',\n",
    "                       default='training_data.csv',\n",
    "                       help='input training data file name')\n",
    "    parser.add_argument('--testing',\n",
    "                        default='testing_data.csv',\n",
    "                        help='input testing data file name')\n",
    "    parser.add_argument('--output',\n",
    "                        default='output.csv',\n",
    "                        help='output file name')\n",
    "    parser.add_argument('-f',\n",
    "                        default=None,\n",
    "                        help='')\n",
    "    args = parser.parse_args()\n",
    "    \n",
    "    # The following part is an example.\n",
    "    # You can modify it at will.\n",
    "    training_data = load_data(args.training)\n",
    "    \n",
    "#    trader = Trader()\n",
    "#    trader.train(training_data)\n",
    "    cross = Cross ()\n",
    "    testing_data = load_data(args.testing)\n",
    "    testing_data_num = testing_data.shape[0]\n",
    "    with open(args.output, 'w') as output_file:\n",
    "        for row in testing_data.values:\n",
    "            cross.predict(row,testing_data_num)\n",
    "            \n",
    "            # this is your option, you can leave it empty.\n",
    "            #trader.re_training()\n",
    "            \n",
    "#     if(cross.stock_num==1):\n",
    "#         cross.my_money = cross.my_money+372.8301\n",
    "        \n",
    "#     elif(cross.stock_num==-1):\n",
    "#         cross.my_money = cross.my_money-372.8301\n",
    "\n",
    "#     print(\"end_money:\",cross.my_money)       \n"
   ]
  },
  {
   "cell_type": "markdown",
   "metadata": {},
   "source": [
    "## result\n",
    "使用助教給的evaluator，最終結果賺得92.0413819元"
   ]
  },
  {
   "cell_type": "code",
   "execution_count": null,
   "metadata": {},
   "outputs": [],
   "source": []
  }
 ],
 "metadata": {
  "kernelspec": {
   "display_name": "Python 3",
   "language": "python",
   "name": "python3"
  },
  "language_info": {
   "codemirror_mode": {
    "name": "ipython",
    "version": 3
   },
   "file_extension": ".py",
   "mimetype": "text/x-python",
   "name": "python",
   "nbconvert_exporter": "python",
   "pygments_lexer": "ipython3",
   "version": "3.6.4"
  }
 },
 "nbformat": 4,
 "nbformat_minor": 2
}
